{
 "cells": [
  {
   "cell_type": "markdown",
   "metadata": {
    "slideshow": {
     "slide_type": "slide"
    }
   },
   "source": [
    "# python tricks\n",
    "\n",
    "* notes\n",
    "* more notes\n",
    "* etc"
   ]
  },
  {
   "cell_type": "markdown",
   "metadata": {
    "slideshow": {
     "slide_type": "slide"
    }
   },
   "source": [
    "## see the current import path"
   ]
  },
  {
   "cell_type": "code",
   "execution_count": 4,
   "metadata": {
    "slideshow": {
     "slide_type": "fragment"
    }
   },
   "outputs": [
    {
     "data": {
      "text/plain": [
       "['/usr/lib/python36.zip',\n",
       " '/usr/lib/python3.6',\n",
       " '/usr/lib/python3.6/lib-dynload',\n",
       " '',\n",
       " '/home/mephisto/.virtualenvs/jupyter/lib/python3.6/site-packages',\n",
       " '/home/mephisto/.virtualenvs/jupyter/lib/python3.6/site-packages/IPython/extensions',\n",
       " '/home/mephisto/.ipython']"
      ]
     },
     "execution_count": 4,
     "metadata": {},
     "output_type": "execute_result"
    }
   ],
   "source": [
    "import sys\n",
    "sys.path"
   ]
  },
  {
   "cell_type": "markdown",
   "metadata": {
    "slideshow": {
     "slide_type": "slide"
    }
   },
   "source": [
    "## see the current env variables"
   ]
  },
  {
   "cell_type": "code",
   "execution_count": 16,
   "metadata": {
    "slideshow": {
     "slide_type": "fragment"
    }
   },
   "outputs": [
    {
     "name": "stdout",
     "output_type": "stream",
     "text": [
      "BASH_COMPLETIONS: /usr/share/bash-completion/bash_completion\n",
      "XONSH_VERSION: 0.6.0\n",
      "CLUTTER_IM_MODULE: xim\n",
      "LC_ALL: en_US.UTF-8\n",
      "NVIM_LISTEN_ADDRESS: /tmp/nvim57KLlK/0\n",
      "XDG_MENU_PREFIX: gnome-\n",
      "LANG: en_US.UTF-8\n",
      "DISPLAY: :0\n",
      "GNOME_SHELL_SESSION_MODE: ubuntu\n",
      "USERNAME: mephisto\n"
     ]
    }
   ],
   "source": [
    "import os\n",
    "\n",
    "for k, v in list(os.environ.items())[:10]:\n",
    "    print(f'{k}: {v}')"
   ]
  }
 ],
 "metadata": {
  "celltoolbar": "Slideshow",
  "kernelspec": {
   "display_name": "Python 3",
   "language": "python",
   "name": "python3"
  },
  "language_info": {
   "codemirror_mode": {
    "name": "ipython",
    "version": 3
   },
   "file_extension": ".py",
   "mimetype": "text/x-python",
   "name": "python",
   "nbconvert_exporter": "python",
   "pygments_lexer": "ipython3",
   "version": "3.6.7"
  }
 },
 "nbformat": 4,
 "nbformat_minor": 2
}
